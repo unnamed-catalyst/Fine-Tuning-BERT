{
 "cells": [
  {
   "cell_type": "code",
   "execution_count": 266,
   "id": "97de10ae",
   "metadata": {
    "scrolled": false
   },
   "outputs": [
    {
     "data": {
      "text/html": [
       "<div>\n",
       "<style scoped>\n",
       "    .dataframe tbody tr th:only-of-type {\n",
       "        vertical-align: middle;\n",
       "    }\n",
       "\n",
       "    .dataframe tbody tr th {\n",
       "        vertical-align: top;\n",
       "    }\n",
       "\n",
       "    .dataframe thead th {\n",
       "        text-align: right;\n",
       "    }\n",
       "</style>\n",
       "<table border=\"1\" class=\"dataframe\">\n",
       "  <thead>\n",
       "    <tr style=\"text-align: right;\">\n",
       "      <th></th>\n",
       "      <th>label</th>\n",
       "      <th>text</th>\n",
       "      <th>label_name</th>\n",
       "    </tr>\n",
       "  </thead>\n",
       "  <tbody>\n",
       "    <tr>\n",
       "      <th>0</th>\n",
       "      <td>0</td>\n",
       "      <td>@tiniebeany climate change is an interesting h...</td>\n",
       "      <td>Anti</td>\n",
       "    </tr>\n",
       "    <tr>\n",
       "      <th>1</th>\n",
       "      <td>2</td>\n",
       "      <td>RT @NatGeoChannel: Watch #BeforeTheFlood right...</td>\n",
       "      <td>Pro</td>\n",
       "    </tr>\n",
       "    <tr>\n",
       "      <th>2</th>\n",
       "      <td>2</td>\n",
       "      <td>Fabulous! Leonardo #DiCaprio's film on #climat...</td>\n",
       "      <td>Pro</td>\n",
       "    </tr>\n",
       "    <tr>\n",
       "      <th>3</th>\n",
       "      <td>2</td>\n",
       "      <td>RT @Mick_Fanning: Just watched this amazing do...</td>\n",
       "      <td>Pro</td>\n",
       "    </tr>\n",
       "    <tr>\n",
       "      <th>4</th>\n",
       "      <td>3</td>\n",
       "      <td>RT @cnalive: Pranita Biswasi, a Lutheran from ...</td>\n",
       "      <td>News</td>\n",
       "    </tr>\n",
       "  </tbody>\n",
       "</table>\n",
       "</div>"
      ],
      "text/plain": [
       "   label                                               text label_name\n",
       "0      0  @tiniebeany climate change is an interesting h...       Anti\n",
       "1      2  RT @NatGeoChannel: Watch #BeforeTheFlood right...        Pro\n",
       "2      2  Fabulous! Leonardo #DiCaprio's film on #climat...        Pro\n",
       "3      2  RT @Mick_Fanning: Just watched this amazing do...        Pro\n",
       "4      3  RT @cnalive: Pranita Biswasi, a Lutheran from ...       News"
      ]
     },
     "execution_count": 266,
     "metadata": {},
     "output_type": "execute_result"
    }
   ],
   "source": [
    "import pandas as pd\n",
    "import re\n",
    "\n",
    "# Import the CSV file\n",
    "df = pd.read_csv('twitter_sentiment_data.csv')\n",
    "\n",
    "# Rename columns\n",
    "df.rename(columns={'sentiment': 'label', 'message': 'text'}, inplace=True)\n",
    "\n",
    "# Delete the 'tweetid' column\n",
    "df.drop(columns=['tweetid'], inplace=True)\n",
    "\n",
    "# Adjust labels by adding 1 to each label\n",
    "df['label'] = df['label'] + 1\n",
    "\n",
    "# Add 'label_name' based on the 'label' values\n",
    "df['label_name'] = df['label'].map({3: 'News', 2: 'Pro', 1: 'Neutral', 0: 'Anti'})\n",
    "\n",
    "# Check the modified DataFrame\n",
    "df.head()"
   ]
  },
  {
   "cell_type": "code",
   "execution_count": 258,
   "id": "b4387831",
   "metadata": {},
   "outputs": [
    {
     "data": {
      "text/plain": [
       "\"RT @antonio5591: Florida,Trump defied Cuba embargo&lied to you about it.Also,he doesn't believe in climate change which will affectÃ¢â‚¬Â¦\""
      ]
     },
     "execution_count": 258,
     "metadata": {},
     "output_type": "execute_result"
    }
   ],
   "source": [
    "import html\n",
    "html.unescape(df['text'][21])"
   ]
  },
  {
   "cell_type": "code",
   "execution_count": 358,
   "id": "5880c381",
   "metadata": {},
   "outputs": [
    {
     "data": {
      "text/plain": [
       "'florida trump defied cuba embargo lied believe climate change'"
      ]
     },
     "execution_count": 358,
     "metadata": {},
     "output_type": "execute_result"
    }
   ],
   "source": [
    "df['text'][21]"
   ]
  },
  {
   "cell_type": "code",
   "execution_count": 264,
   "id": "a6e0b1c7",
   "metadata": {},
   "outputs": [],
   "source": [
    "import re\n",
    "import html\n",
    "\n",
    "def clean_text(text):\n",
    "    # Decode HTML entities\n",
    "    text = html.unescape(text)\n",
    "    # Remove words containing \"Ã\"\n",
    "    text = re.sub(r'\\b\\w*Ã\\w*\\b', '', text)\n",
    "    # Fix encoding issues\n",
    "    text = text.encode('latin1', errors='ignore').decode('utf-8', errors='ignore')\n",
    "    # Add space after punctuation if not followed by space\n",
    "    text = re.sub(r'([.,!?&])(?=\\S)', r'\\1 ', text)\n",
    "    # Remove extra spaces\n",
    "    text = re.sub(r'\\s+', ' ', text).strip()\n",
    "    return text\n",
    "\n",
    "# Apply the function to the 'text' column\n",
    "df['text'] = df['text'].apply(clean_text)"
   ]
  },
  {
   "cell_type": "code",
   "execution_count": 308,
   "id": "00cc018c",
   "metadata": {},
   "outputs": [
    {
     "data": {
      "text/plain": [
       "\"RT @People4Bernie: We are all Zach: 'You and your friends will die of old age &amp; IÃ¢â‚¬â„¢m going to die from climate change.'\\nhttps://t.co/r425dcmÃ¢â‚¬Â¦\""
      ]
     },
     "execution_count": 308,
     "metadata": {},
     "output_type": "execute_result"
    }
   ],
   "source": [
    "df['text'][3966]"
   ]
  },
  {
   "cell_type": "code",
   "execution_count": 333,
   "id": "5b3aa0b3",
   "metadata": {},
   "outputs": [
    {
     "data": {
      "text/plain": [
       "'liberal tears soon beat climate change leading cause rising sea levels'"
      ]
     },
     "execution_count": 333,
     "metadata": {},
     "output_type": "execute_result"
    }
   ],
   "source": [
    "df['text'][3958]"
   ]
  },
  {
   "cell_type": "code",
   "execution_count": 9,
   "id": "192a2857",
   "metadata": {},
   "outputs": [],
   "source": [
    "# Function to clean text\n",
    "def clean_text(text):\n",
    "    # Remove words containing the specific character sequence\n",
    "    text = re.sub(r'\\S*ÃƒÂ¢Ã¢â€šÂ¬Ã‚Â\\S*', '', text)\n",
    "    # Remove URLs (http, https, www)\n",
    "    text = re.sub(r'http[s]?://\\S+|www\\.\\S+', '', text)\n",
    "    # Remove @mentions (usernames)\n",
    "    text = re.sub(r'@[\\w]+', '', text)  # Remove @username\n",
    "    # Remove RT and retweet mention\n",
    "    text = re.sub(r'\\bRT\\b', '', text)  # Remove RT\n",
    "    # Remove non-ASCII characters (including special characters)\n",
    "    text = ''.join([char for char in text if ord(char) < 128])  # Keep only ASCII characters\n",
    "    # Remove special characters and unwanted symbols\n",
    "    text = re.sub(r'[^a-zA-Z0-9\\s]', '', text)  # Keep only alphanumeric characters and spaces\n",
    "#     Remove extra spaces\n",
    "    text = re.sub(r'\\s+', ' ', text).strip()\n",
    "    return text\n",
    "\n",
    "# Apply the cleaning function to the 'text' column\n",
    "df['text'] = df['text'].apply(clean_text)"
   ]
  },
  {
   "cell_type": "code",
   "execution_count": 10,
   "id": "261ec191",
   "metadata": {},
   "outputs": [],
   "source": [
    "# Save the modified DataFrame to a new CSV file\n",
    "df.to_csv('modified_file.csv', index=False)"
   ]
  },
  {
   "cell_type": "markdown",
   "id": "716baadb",
   "metadata": {},
   "source": [
    "## Using the NeatText Package\n",
    "\n",
    "The NeatText Python package can be found here: https://github.com/Jcharis/neattext/wiki"
   ]
  },
  {
   "cell_type": "code",
   "execution_count": 1,
   "id": "7afba99d",
   "metadata": {},
   "outputs": [
    {
     "name": "stdout",
     "output_type": "stream",
     "text": [
      "Collecting neattext\n",
      "  Obtaining dependency information for neattext from https://files.pythonhosted.org/packages/ca/69/320062a5980ec9b6383bb9caf2a335e0f177164a2e7dd1d98f967b07e1c7/neattext-0.1.3-py3-none-any.whl.metadata\n",
      "  Downloading neattext-0.1.3-py3-none-any.whl.metadata (12 kB)\n",
      "Downloading neattext-0.1.3-py3-none-any.whl (114 kB)\n",
      "   ---------------------------------------- 0.0/114.7 kB ? eta -:--:--\n",
      "   ------ -------------------------------- 20.5/114.7 kB 640.0 kB/s eta 0:00:01\n",
      "   ---------------------------------------- 114.7/114.7 kB 1.3 MB/s eta 0:00:00\n",
      "Installing collected packages: neattext\n",
      "Successfully installed neattext-0.1.3\n"
     ]
    }
   ],
   "source": [
    "!pip install neattext"
   ]
  },
  {
   "cell_type": "code",
   "execution_count": 1,
   "id": "a5b51687",
   "metadata": {},
   "outputs": [],
   "source": [
    "import neattext as nt\n",
    "import neattext.functions as nfx"
   ]
  },
  {
   "cell_type": "code",
   "execution_count": 96,
   "id": "7888b706",
   "metadata": {
    "collapsed": true
   },
   "outputs": [
    {
     "data": {
      "text/plain": [
       "['BTC_ADDRESS_REGEX',\n",
       " 'CURRENCY_REGEX',\n",
       " 'CURRENCY_SYMB_REGEX',\n",
       " 'Counter',\n",
       " 'DATE_REGEX',\n",
       " 'EMAIL_REGEX',\n",
       " 'EMOJI_REGEX',\n",
       " 'HASTAG_REGEX',\n",
       " 'MASTERCard_REGEX',\n",
       " 'MD5_SHA_REGEX',\n",
       " 'MOST_COMMON_PUNCT_REGEX',\n",
       " 'NUMBERS_REGEX',\n",
       " 'PHONE_REGEX',\n",
       " 'PoBOX_REGEX',\n",
       " 'SPECIAL_CHARACTERS_REGEX',\n",
       " 'STOPWORDS',\n",
       " 'STOPWORDS_de',\n",
       " 'STOPWORDS_en',\n",
       " 'STOPWORDS_es',\n",
       " 'STOPWORDS_fr',\n",
       " 'STOPWORDS_ru',\n",
       " 'STOPWORDS_yo',\n",
       " 'STREET_ADDRESS_REGEX',\n",
       " 'TextFrame',\n",
       " 'URL_PATTERN',\n",
       " 'USER_HANDLES_REGEX',\n",
       " 'VISACard_REGEX',\n",
       " '__builtins__',\n",
       " '__cached__',\n",
       " '__doc__',\n",
       " '__file__',\n",
       " '__generate_text',\n",
       " '__loader__',\n",
       " '__name__',\n",
       " '__numbers_dict',\n",
       " '__package__',\n",
       " '__spec__',\n",
       " '_lex_richness_herdan',\n",
       " '_lex_richness_maas_ttr',\n",
       " 'clean_text',\n",
       " 'defaultdict',\n",
       " 'digit2words',\n",
       " 'extract_btc_address',\n",
       " 'extract_currencies',\n",
       " 'extract_currency_symbols',\n",
       " 'extract_dates',\n",
       " 'extract_emails',\n",
       " 'extract_emojis',\n",
       " 'extract_hashtags',\n",
       " 'extract_html_tags',\n",
       " 'extract_mastercard_addr',\n",
       " 'extract_md5sha',\n",
       " 'extract_numbers',\n",
       " 'extract_pattern',\n",
       " 'extract_phone_numbers',\n",
       " 'extract_postoffice_box',\n",
       " 'extract_shortwords',\n",
       " 'extract_special_characters',\n",
       " 'extract_stopwords',\n",
       " 'extract_street_address',\n",
       " 'extract_terms_in_bracket',\n",
       " 'extract_urls',\n",
       " 'extract_userhandles',\n",
       " 'extract_visacard_addr',\n",
       " 'fix_contractions',\n",
       " 'generate_sentence',\n",
       " 'hamming_distance',\n",
       " 'inverse_df',\n",
       " 'lexical_richness',\n",
       " 'markov_chain',\n",
       " 'math',\n",
       " 'nlargest',\n",
       " 'normalize',\n",
       " 'num2words',\n",
       " 'random',\n",
       " 're',\n",
       " 'read_txt',\n",
       " 'remove_accents',\n",
       " 'remove_bad_quotes',\n",
       " 'remove_btc_address',\n",
       " 'remove_currencies',\n",
       " 'remove_currency_symbols',\n",
       " 'remove_custom_pattern',\n",
       " 'remove_custom_words',\n",
       " 'remove_dates',\n",
       " 'remove_emails',\n",
       " 'remove_emojis',\n",
       " 'remove_hashtags',\n",
       " 'remove_html_tags',\n",
       " 'remove_mastercard_addr',\n",
       " 'remove_md5sha',\n",
       " 'remove_multiple_spaces',\n",
       " 'remove_non_ascii',\n",
       " 'remove_numbers',\n",
       " 'remove_phone_numbers',\n",
       " 'remove_postoffice_box',\n",
       " 'remove_puncts',\n",
       " 'remove_punctuations',\n",
       " 'remove_shortwords',\n",
       " 'remove_special_characters',\n",
       " 'remove_stopwords',\n",
       " 'remove_street_address',\n",
       " 'remove_terms_in_bracket',\n",
       " 'remove_urls',\n",
       " 'remove_userhandles',\n",
       " 'remove_visacard_addr',\n",
       " 'replace_bad_quotes',\n",
       " 'replace_currencies',\n",
       " 'replace_currency_symbols',\n",
       " 'replace_dates',\n",
       " 'replace_emails',\n",
       " 'replace_emojis',\n",
       " 'replace_numbers',\n",
       " 'replace_phone_numbers',\n",
       " 'replace_special_characters',\n",
       " 'replace_term',\n",
       " 'replace_urls',\n",
       " 'string',\n",
       " 'term_freq',\n",
       " 'to_txt',\n",
       " 'unicodedata',\n",
       " 'word_freq',\n",
       " 'word_length_freq']"
      ]
     },
     "execution_count": 96,
     "metadata": {},
     "output_type": "execute_result"
    }
   ],
   "source": [
    "dir(nfx)"
   ]
  },
  {
   "cell_type": "code",
   "execution_count": 2,
   "id": "98cd2d09",
   "metadata": {},
   "outputs": [
    {
     "name": "stderr",
     "output_type": "stream",
     "text": [
      "C:\\Users\\nawaf\\AppData\\Roaming\\Python\\Python311\\site-packages\\pandas\\core\\arrays\\masked.py:60: UserWarning: Pandas requires version '1.3.6' or newer of 'bottleneck' (version '1.3.5' currently installed).\n",
      "  from pandas.core import (\n"
     ]
    },
    {
     "data": {
      "text/html": [
       "<div>\n",
       "<style scoped>\n",
       "    .dataframe tbody tr th:only-of-type {\n",
       "        vertical-align: middle;\n",
       "    }\n",
       "\n",
       "    .dataframe tbody tr th {\n",
       "        vertical-align: top;\n",
       "    }\n",
       "\n",
       "    .dataframe thead th {\n",
       "        text-align: right;\n",
       "    }\n",
       "</style>\n",
       "<table border=\"1\" class=\"dataframe\">\n",
       "  <thead>\n",
       "    <tr style=\"text-align: right;\">\n",
       "      <th></th>\n",
       "      <th>label</th>\n",
       "      <th>text</th>\n",
       "      <th>label_name</th>\n",
       "    </tr>\n",
       "  </thead>\n",
       "  <tbody>\n",
       "    <tr>\n",
       "      <th>0</th>\n",
       "      <td>0</td>\n",
       "      <td>@tiniebeany climate change is an interesting h...</td>\n",
       "      <td>Anti</td>\n",
       "    </tr>\n",
       "    <tr>\n",
       "      <th>1</th>\n",
       "      <td>2</td>\n",
       "      <td>RT @NatGeoChannel: Watch #BeforeTheFlood right...</td>\n",
       "      <td>Pro</td>\n",
       "    </tr>\n",
       "    <tr>\n",
       "      <th>2</th>\n",
       "      <td>2</td>\n",
       "      <td>Fabulous! Leonardo #DiCaprio's film on #climat...</td>\n",
       "      <td>Pro</td>\n",
       "    </tr>\n",
       "    <tr>\n",
       "      <th>3</th>\n",
       "      <td>2</td>\n",
       "      <td>RT @Mick_Fanning: Just watched this amazing do...</td>\n",
       "      <td>Pro</td>\n",
       "    </tr>\n",
       "    <tr>\n",
       "      <th>4</th>\n",
       "      <td>3</td>\n",
       "      <td>RT @cnalive: Pranita Biswasi, a Lutheran from ...</td>\n",
       "      <td>News</td>\n",
       "    </tr>\n",
       "  </tbody>\n",
       "</table>\n",
       "</div>"
      ],
      "text/plain": [
       "   label                                               text label_name\n",
       "0      0  @tiniebeany climate change is an interesting h...       Anti\n",
       "1      2  RT @NatGeoChannel: Watch #BeforeTheFlood right...        Pro\n",
       "2      2  Fabulous! Leonardo #DiCaprio's film on #climat...        Pro\n",
       "3      2  RT @Mick_Fanning: Just watched this amazing do...        Pro\n",
       "4      3  RT @cnalive: Pranita Biswasi, a Lutheran from ...       News"
      ]
     },
     "execution_count": 2,
     "metadata": {},
     "output_type": "execute_result"
    }
   ],
   "source": [
    "import pandas as pd\n",
    "import re\n",
    "\n",
    "# Import the CSV file\n",
    "df = pd.read_csv('twitter_sentiment_data.csv')\n",
    "\n",
    "# Rename columns\n",
    "df.rename(columns={'sentiment': 'label', 'message': 'text'}, inplace=True)\n",
    "\n",
    "# Delete the 'tweetid' column\n",
    "df.drop(columns=['tweetid'], inplace=True)\n",
    "\n",
    "# Adjust labels by adding 1 to each label\n",
    "df['label'] = df['label'] + 1\n",
    "\n",
    "# Add 'label_name' based on the 'label' values\n",
    "df['label_name'] = df['label'].map({3: 'News', 2: 'Pro', 1: 'Neutral', 0: 'Anti'})\n",
    "\n",
    "# Check the modified DataFrame\n",
    "df.head()"
   ]
  },
  {
   "cell_type": "code",
   "execution_count": 3,
   "id": "09d55351",
   "metadata": {},
   "outputs": [
    {
     "data": {
      "text/plain": [
       "0        @tiniebeany climate change is an interesting h...\n",
       "1        RT @NatGeoChannel: Watch #BeforeTheFlood right...\n",
       "2        Fabulous! Leonardo #DiCaprio's film on #climat...\n",
       "3        RT @Mick_Fanning: Just watched this amazing do...\n",
       "4        RT @cnalive: Pranita Biswasi, a Lutheran from ...\n",
       "                               ...                        \n",
       "43938    Dear @realDonaldTrump,\\nYeah right. Human Medi...\n",
       "43939    What will your respective parties do to preven...\n",
       "43940    RT @MikkiL: UN Poll Shows Climate Change Is th...\n",
       "43941    RT @taehbeingextra: i still can$q$t believe th...\n",
       "43942    @Likeabat77 @zachhaller \\n\\nThe wealthy + foss...\n",
       "Name: text, Length: 43943, dtype: object"
      ]
     },
     "execution_count": 3,
     "metadata": {},
     "output_type": "execute_result"
    }
   ],
   "source": [
    "df['text']"
   ]
  },
  {
   "cell_type": "code",
   "execution_count": 269,
   "id": "1b50f9cd",
   "metadata": {
    "scrolled": true
   },
   "outputs": [
    {
     "data": {
      "text/plain": [
       "0         8.029197\n",
       "1         8.904110\n",
       "2        14.529915\n",
       "3        11.188811\n",
       "4         8.633094\n",
       "           ...    \n",
       "43938    10.434783\n",
       "43939     7.228916\n",
       "43940    11.881188\n",
       "43941     7.246377\n",
       "43942     9.285714\n",
       "Name: text, Length: 43943, dtype: float64"
      ]
     },
     "execution_count": 269,
     "metadata": {},
     "output_type": "execute_result"
    }
   ],
   "source": [
    "# Noise Scan\n",
    "df['text'].apply(lambda x : nt.TextFrame(x).noise_scan()['text_noise'])"
   ]
  },
  {
   "cell_type": "code",
   "execution_count": 270,
   "id": "de1898af",
   "metadata": {},
   "outputs": [
    {
     "data": {
      "text/plain": [
       "482560.5584000127"
      ]
     },
     "execution_count": 270,
     "metadata": {},
     "output_type": "execute_result"
    }
   ],
   "source": [
    "df['text'].apply(lambda x : nt.TextFrame(x).noise_scan()['text_noise']).sum()"
   ]
  },
  {
   "cell_type": "code",
   "execution_count": 4,
   "id": "34c5308a",
   "metadata": {},
   "outputs": [],
   "source": [
    "# Replace $q$ with a single quote in the message column\n",
    "df['text'] = df['text'].str.replace('$q$', \"'\", regex=False)"
   ]
  },
  {
   "cell_type": "code",
   "execution_count": 5,
   "id": "fa6af57b",
   "metadata": {},
   "outputs": [],
   "source": [
    "# Extracting Userhandles\n",
    "# userhandles = df['text'].apply(nfx.extract_userhandles)\n",
    "# userhandles\n",
    "\n",
    "# Removing Userhandles\n",
    "df['text'] = df['text'].apply(nfx.remove_userhandles)"
   ]
  },
  {
   "cell_type": "code",
   "execution_count": 6,
   "id": "3df81c63",
   "metadata": {},
   "outputs": [
    {
     "data": {
      "text/plain": [
       "0          climate change is an interesting hustle as i...\n",
       "1        RT   Watch #BeforeTheFlood right here, as   tr...\n",
       "2        Fabulous! Leonardo #DiCaprio's film on #climat...\n",
       "3        RT   Just watched this amazing documentary by ...\n",
       "4        RT   Pranita Biswasi, a Lutheran from Odisha, ...\n",
       "                               ...                        \n",
       "43938    Dear  \\nYeah right. Human Mediated Climate Cha...\n",
       "43939    What will your respective parties do to preven...\n",
       "43940    RT   UN Poll Shows Climate Change Is the Lowes...\n",
       "43941    RT   i still can't believe this gif of taehyun...\n",
       "43942        \\n\\nThe wealthy + fossil fuel Industry kno...\n",
       "Name: text, Length: 43943, dtype: object"
      ]
     },
     "execution_count": 6,
     "metadata": {},
     "output_type": "execute_result"
    }
   ],
   "source": [
    "df['text']"
   ]
  },
  {
   "cell_type": "code",
   "execution_count": 7,
   "id": "152a2f7c",
   "metadata": {},
   "outputs": [],
   "source": [
    "#Extracting Hashtags\n",
    "# hashtags = df['text'].apply(nfx.extract_hashtags)\n",
    "# hashtags\n",
    "\n",
    "# Removing Hashtags\n",
    "df['text'] = df['text'].apply(nfx.remove_hashtags)"
   ]
  },
  {
   "cell_type": "code",
   "execution_count": 8,
   "id": "d4036ace",
   "metadata": {},
   "outputs": [
    {
     "data": {
      "text/plain": [
       "0          climate change is an interesting hustle as i...\n",
       "1        RT   Watch   right here, as   travels the worl...\n",
       "2        Fabulous! Leonardo   film on   change is brill...\n",
       "3        RT   Just watched this amazing documentary by ...\n",
       "4        RT   Pranita Biswasi, a Lutheran from Odisha, ...\n",
       "                               ...                        \n",
       "43938    Dear  \\nYeah right. Human Mediated Climate Cha...\n",
       "43939    What will your respective parties do to preven...\n",
       "43940    RT   UN Poll Shows Climate Change Is the Lowes...\n",
       "43941    RT   i still can't believe this gif of taehyun...\n",
       "43942        \\n\\nThe wealthy + fossil fuel Industry kno...\n",
       "Name: text, Length: 43943, dtype: object"
      ]
     },
     "execution_count": 8,
     "metadata": {},
     "output_type": "execute_result"
    }
   ],
   "source": [
    "df['text']"
   ]
  },
  {
   "cell_type": "code",
   "execution_count": 9,
   "id": "a3cb54e4",
   "metadata": {},
   "outputs": [],
   "source": [
    "#Extracting URLs\n",
    "# urls = df['text'].apply(nfx.extract_urls)\n",
    "# urls\n",
    "\n",
    "# Removing URLs\n",
    "df['text'] = df['text'].apply(nfx.remove_urls)"
   ]
  },
  {
   "cell_type": "code",
   "execution_count": 10,
   "id": "4a41f045",
   "metadata": {},
   "outputs": [
    {
     "data": {
      "text/plain": [
       "0          climate change is an interesting hustle as i...\n",
       "1        RT   Watch   right here, as   travels the worl...\n",
       "2        Fabulous! Leonardo   film on   change is brill...\n",
       "3        RT   Just watched this amazing documentary by ...\n",
       "4        RT   Pranita Biswasi, a Lutheran from Odisha, ...\n",
       "                               ...                        \n",
       "43938    Dear  \\nYeah right. Human Mediated Climate Cha...\n",
       "43939    What will your respective parties do to preven...\n",
       "43940    RT   UN Poll Shows Climate Change Is the Lowes...\n",
       "43941    RT   i still can't believe this gif of taehyun...\n",
       "43942        \\n\\nThe wealthy + fossil fuel Industry kno...\n",
       "Name: text, Length: 43943, dtype: object"
      ]
     },
     "execution_count": 10,
     "metadata": {},
     "output_type": "execute_result"
    }
   ],
   "source": [
    "df['text']"
   ]
  },
  {
   "cell_type": "code",
   "execution_count": 11,
   "id": "7d31016d",
   "metadata": {},
   "outputs": [],
   "source": [
    "import re\n",
    "import html\n",
    "\n",
    "def clean_text(text):\n",
    "    # Decode HTML entities\n",
    "    text = html.unescape(text)\n",
    "    # Remove words containing \"Ã\"\n",
    "    text = re.sub(r'\\b\\w*Ã\\w*\\b', '', text)\n",
    "    # Fix encoding issues\n",
    "    text = text.encode('latin1', errors='ignore').decode('utf-8', errors='ignore')\n",
    "    # Add space after punctuation if not followed by space\n",
    "    text = re.sub(r'([.,!?&])(?=\\S)', r'\\1 ', text)\n",
    "    # Remove extra spaces\n",
    "    text = re.sub(r'\\s+', ' ', text).strip()\n",
    "    return text\n",
    "\n",
    "# Apply the function to the 'text' column\n",
    "df['text'] = df['text'].apply(clean_text)"
   ]
  },
  {
   "cell_type": "code",
   "execution_count": 12,
   "id": "65448cb8",
   "metadata": {},
   "outputs": [],
   "source": [
    "# Removing Custom Patterns\n",
    "df['text'] = df['text'].apply(lambda x : nfx.remove_custom_pattern(x, term_pattern=r'&#\\S+'))\n",
    "df['text'] = df['text'].apply(lambda x : nfx.remove_custom_pattern(x, term_pattern=r'RT'))"
   ]
  },
  {
   "cell_type": "code",
   "execution_count": 13,
   "id": "cfcd601b",
   "metadata": {},
   "outputs": [],
   "source": [
    "# Removing Contractions\n",
    "df['text'] = df['text'].apply(nfx.fix_contractions)\n",
    "# nfx.fix_contractions(\"I'm testing this, it's a test y'all, idk i cant test this\")"
   ]
  },
  {
   "cell_type": "code",
   "execution_count": 14,
   "id": "ee7c1c94",
   "metadata": {},
   "outputs": [
    {
     "data": {
      "text/plain": [
       "0        climate change is an interesting hustle as it ...\n",
       "1          watch right here, as travels the world to ta...\n",
       "2        fabulous! leonardo film on change is brilliant...\n",
       "3          just watched this amazing documentary by leo...\n",
       "4          pranita biswasi, a lutheran from odisha, giv...\n",
       "                               ...                        \n",
       "43938    dear yeah right. human mediated climate change...\n",
       "43939    what will your respective parties do to preven...\n",
       "43940      un poll shows climate change is the lowest o...\n",
       "43941      i still cannot believe this gif of taehyung ...\n",
       "43942    the wealthy + fossil fuel industry know climat...\n",
       "Name: text, Length: 43943, dtype: object"
      ]
     },
     "execution_count": 14,
     "metadata": {},
     "output_type": "execute_result"
    }
   ],
   "source": [
    "df['text']"
   ]
  },
  {
   "cell_type": "code",
   "execution_count": 15,
   "id": "f0f54903",
   "metadata": {},
   "outputs": [],
   "source": [
    "df['text'] = df['text'].apply(nfx.remove_numbers)"
   ]
  },
  {
   "cell_type": "code",
   "execution_count": 16,
   "id": "34f4bc58",
   "metadata": {},
   "outputs": [],
   "source": [
    "# Removing Special Characters and Extra Spaces\n",
    "df['text'] = df['text'].apply(nfx.remove_special_characters)\n",
    "df['text'] = df['text'].apply(nfx.remove_multiple_spaces)"
   ]
  },
  {
   "cell_type": "code",
   "execution_count": 17,
   "id": "0f846ec5",
   "metadata": {},
   "outputs": [
    {
     "data": {
      "text/plain": [
       "0        climate change is an interesting hustle as it ...\n",
       "1         watch right here as travels the world to tack...\n",
       "2        fabulous leonardo film on change is brilliant ...\n",
       "3         just watched this amazing documentary by leon...\n",
       "4         pranita biswasi a lutheran from odisha gives ...\n",
       "                               ...                        \n",
       "43938    dear yeah right human mediated climate change ...\n",
       "43939    what will your respective parties do to preven...\n",
       "43940     un poll shows climate change is the lowest of...\n",
       "43941     i still cannot believe this gif of taehyung s...\n",
       "43942    the wealthy fossil fuel industry know climate ...\n",
       "Name: text, Length: 43943, dtype: object"
      ]
     },
     "execution_count": 17,
     "metadata": {},
     "output_type": "execute_result"
    }
   ],
   "source": [
    "df['text']"
   ]
  },
  {
   "cell_type": "code",
   "execution_count": 18,
   "id": "ffe79723",
   "metadata": {
    "scrolled": false
   },
   "outputs": [
    {
     "name": "stderr",
     "output_type": "stream",
     "text": [
      "C:\\Users\\nawaf\\AppData\\Local\\Temp\\ipykernel_5184\\1141652326.py:6: FutureWarning: the convert_dtype parameter is deprecated and will be removed in a future version.  Do ``ser.astype(object).apply()`` instead if you want ``convert_dtype=False``.\n",
      "  df['text'] = df['text'].apply(nfx.remove_stopwords, 'en')\n"
     ]
    }
   ],
   "source": [
    "# Removing Stopwords\n",
    "\n",
    "# df['text'].apply(lambda x : nt.TextExtractor(x).extract_stopwords())\n",
    "\n",
    "# df['text'].apply(lambda x : nt.TextExtractor(x).remove_stopwords())\n",
    "df['text'] = df['text'].apply(nfx.remove_stopwords, 'en')"
   ]
  },
  {
   "cell_type": "code",
   "execution_count": 19,
   "id": "e7572245",
   "metadata": {},
   "outputs": [
    {
     "data": {
      "text/plain": [
       "0        climate change interesting hustle global warmi...\n",
       "1          watch right travels world tackle climate change\n",
       "2            fabulous leonardo film change brilliant watch\n",
       "3        watched amazing documentary leonardodicaprio c...\n",
       "4        pranita biswasi lutheran odisha gives testimon...\n",
       "                               ...                        \n",
       "43938    dear yeah right human mediated climate change ...\n",
       "43939    respective parties prevent climate change glob...\n",
       "43940    un poll shows climate change lowest global con...\n",
       "43941    believe gif taehyung saved human race stopped ...\n",
       "43942    wealthy fossil fuel industry know climate chan...\n",
       "Name: text, Length: 43943, dtype: object"
      ]
     },
     "execution_count": 19,
     "metadata": {},
     "output_type": "execute_result"
    }
   ],
   "source": [
    "df['text']"
   ]
  },
  {
   "cell_type": "code",
   "execution_count": 21,
   "id": "cd634915",
   "metadata": {},
   "outputs": [
    {
     "data": {
      "text/plain": [
       "0        0\n",
       "1        0\n",
       "2        0\n",
       "3        0\n",
       "4        0\n",
       "        ..\n",
       "43938    0\n",
       "43939    0\n",
       "43940    0\n",
       "43941    0\n",
       "43942    0\n",
       "Name: text, Length: 43943, dtype: int64"
      ]
     },
     "execution_count": 21,
     "metadata": {},
     "output_type": "execute_result"
    }
   ],
   "source": [
    "# Noise Scan\n",
    "df['text'].apply(lambda x : nt.TextFrame(x).noise_scan()['text_noise'])"
   ]
  },
  {
   "cell_type": "code",
   "execution_count": 22,
   "id": "62e461aa",
   "metadata": {},
   "outputs": [
    {
     "data": {
      "text/plain": [
       "0"
      ]
     },
     "execution_count": 22,
     "metadata": {},
     "output_type": "execute_result"
    }
   ],
   "source": [
    "df['text'].apply(lambda x : nt.TextFrame(x).noise_scan()['text_noise']).sum()"
   ]
  },
  {
   "cell_type": "code",
   "execution_count": 23,
   "id": "a89a2b32",
   "metadata": {},
   "outputs": [
    {
     "data": {
      "text/html": [
       "<div>\n",
       "<style scoped>\n",
       "    .dataframe tbody tr th:only-of-type {\n",
       "        vertical-align: middle;\n",
       "    }\n",
       "\n",
       "    .dataframe tbody tr th {\n",
       "        vertical-align: top;\n",
       "    }\n",
       "\n",
       "    .dataframe thead th {\n",
       "        text-align: right;\n",
       "    }\n",
       "</style>\n",
       "<table border=\"1\" class=\"dataframe\">\n",
       "  <thead>\n",
       "    <tr style=\"text-align: right;\">\n",
       "      <th></th>\n",
       "      <th>label</th>\n",
       "      <th>text</th>\n",
       "      <th>label_name</th>\n",
       "    </tr>\n",
       "  </thead>\n",
       "  <tbody>\n",
       "    <tr>\n",
       "      <th>0</th>\n",
       "      <td>0</td>\n",
       "      <td>climate change interesting hustle global warmi...</td>\n",
       "      <td>Anti</td>\n",
       "    </tr>\n",
       "    <tr>\n",
       "      <th>1</th>\n",
       "      <td>2</td>\n",
       "      <td>watch right travels world tackle climate change</td>\n",
       "      <td>Pro</td>\n",
       "    </tr>\n",
       "    <tr>\n",
       "      <th>2</th>\n",
       "      <td>2</td>\n",
       "      <td>fabulous leonardo film change brilliant watch</td>\n",
       "      <td>Pro</td>\n",
       "    </tr>\n",
       "    <tr>\n",
       "      <th>3</th>\n",
       "      <td>2</td>\n",
       "      <td>watched amazing documentary leonardodicaprio c...</td>\n",
       "      <td>Pro</td>\n",
       "    </tr>\n",
       "    <tr>\n",
       "      <th>4</th>\n",
       "      <td>3</td>\n",
       "      <td>pranita biswasi lutheran odisha gives testimon...</td>\n",
       "      <td>News</td>\n",
       "    </tr>\n",
       "  </tbody>\n",
       "</table>\n",
       "</div>"
      ],
      "text/plain": [
       "   label                                               text label_name\n",
       "0      0  climate change interesting hustle global warmi...       Anti\n",
       "1      2    watch right travels world tackle climate change        Pro\n",
       "2      2      fabulous leonardo film change brilliant watch        Pro\n",
       "3      2  watched amazing documentary leonardodicaprio c...        Pro\n",
       "4      3  pranita biswasi lutheran odisha gives testimon...       News"
      ]
     },
     "execution_count": 23,
     "metadata": {},
     "output_type": "execute_result"
    }
   ],
   "source": [
    "df.head()"
   ]
  },
  {
   "cell_type": "code",
   "execution_count": 24,
   "id": "3fc6b031",
   "metadata": {},
   "outputs": [
    {
     "data": {
      "text/plain": [
       "label         0\n",
       "text          0\n",
       "label_name    0\n",
       "dtype: int64"
      ]
     },
     "execution_count": 24,
     "metadata": {},
     "output_type": "execute_result"
    }
   ],
   "source": [
    "df.isnull().sum()"
   ]
  },
  {
   "cell_type": "markdown",
   "id": "9a547331",
   "metadata": {},
   "source": [
    "## Oversampling Data"
   ]
  },
  {
   "cell_type": "code",
   "execution_count": 26,
   "id": "d951cf4c",
   "metadata": {},
   "outputs": [],
   "source": [
    "from datasets import DatasetDict\n",
    "\n",
    "def oversample_minority_classes(dataset, label_column='label'):\n",
    "    # Get the maximum class count\n",
    "    class_counts = dataset[label_column].value_counts()\n",
    "    max_count = class_counts.max()\n",
    "    \n",
    "    # Create a balanced dataset by oversampling each class to match the maximum count\n",
    "    balanced_data = pd.concat(\n",
    "        [dataset[dataset[label_column] == cls].sample(max_count, replace=True) for cls in class_counts.index]\n",
    "    )\n",
    "    \n",
    "    return balanced_data.sample(frac=1).reset_index(drop=True)  # Shuffle the dataset\n",
    "\n",
    "# Apply oversampling to each split\n",
    "balanced_train_df = oversample_minority_classes(df)"
   ]
  },
  {
   "cell_type": "code",
   "execution_count": 10,
   "id": "c8a2370e",
   "metadata": {},
   "outputs": [],
   "source": [
    "import pandas as pd\n",
    "\n",
    "# df = pd.read_csv('modified_file.csv')\n",
    "df = pd.read_csv('twitter_sentiment_data.csv')\n",
    "balanced_train_df = pd.read_csv('cleaned_twitter_sentiment_data.csv')"
   ]
  },
  {
   "cell_type": "code",
   "execution_count": 11,
   "id": "3d7765ec",
   "metadata": {},
   "outputs": [
    {
     "data": {
      "text/html": [
       "<div>\n",
       "<style scoped>\n",
       "    .dataframe tbody tr th:only-of-type {\n",
       "        vertical-align: middle;\n",
       "    }\n",
       "\n",
       "    .dataframe tbody tr th {\n",
       "        vertical-align: top;\n",
       "    }\n",
       "\n",
       "    .dataframe thead th {\n",
       "        text-align: right;\n",
       "    }\n",
       "</style>\n",
       "<table border=\"1\" class=\"dataframe\">\n",
       "  <thead>\n",
       "    <tr style=\"text-align: right;\">\n",
       "      <th></th>\n",
       "      <th>sentiment</th>\n",
       "      <th>message</th>\n",
       "      <th>tweetid</th>\n",
       "    </tr>\n",
       "  </thead>\n",
       "  <tbody>\n",
       "    <tr>\n",
       "      <th>0</th>\n",
       "      <td>-1</td>\n",
       "      <td>@tiniebeany climate change is an interesting h...</td>\n",
       "      <td>792927353886371840</td>\n",
       "    </tr>\n",
       "    <tr>\n",
       "      <th>1</th>\n",
       "      <td>1</td>\n",
       "      <td>RT @NatGeoChannel: Watch #BeforeTheFlood right...</td>\n",
       "      <td>793124211518832641</td>\n",
       "    </tr>\n",
       "    <tr>\n",
       "      <th>2</th>\n",
       "      <td>1</td>\n",
       "      <td>Fabulous! Leonardo #DiCaprio's film on #climat...</td>\n",
       "      <td>793124402388832256</td>\n",
       "    </tr>\n",
       "    <tr>\n",
       "      <th>3</th>\n",
       "      <td>1</td>\n",
       "      <td>RT @Mick_Fanning: Just watched this amazing do...</td>\n",
       "      <td>793124635873275904</td>\n",
       "    </tr>\n",
       "    <tr>\n",
       "      <th>4</th>\n",
       "      <td>2</td>\n",
       "      <td>RT @cnalive: Pranita Biswasi, a Lutheran from ...</td>\n",
       "      <td>793125156185137153</td>\n",
       "    </tr>\n",
       "  </tbody>\n",
       "</table>\n",
       "</div>"
      ],
      "text/plain": [
       "   sentiment                                            message  \\\n",
       "0         -1  @tiniebeany climate change is an interesting h...   \n",
       "1          1  RT @NatGeoChannel: Watch #BeforeTheFlood right...   \n",
       "2          1  Fabulous! Leonardo #DiCaprio's film on #climat...   \n",
       "3          1  RT @Mick_Fanning: Just watched this amazing do...   \n",
       "4          2  RT @cnalive: Pranita Biswasi, a Lutheran from ...   \n",
       "\n",
       "              tweetid  \n",
       "0  792927353886371840  \n",
       "1  793124211518832641  \n",
       "2  793124402388832256  \n",
       "3  793124635873275904  \n",
       "4  793125156185137153  "
      ]
     },
     "execution_count": 11,
     "metadata": {},
     "output_type": "execute_result"
    }
   ],
   "source": [
    "df.head()"
   ]
  },
  {
   "cell_type": "code",
   "execution_count": 5,
   "id": "94e53e9c",
   "metadata": {
    "scrolled": false
   },
   "outputs": [
    {
     "data": {
      "text/plain": [
       "Text(0.5, 1.0, 'Frequency of Classes')"
      ]
     },
     "execution_count": 5,
     "metadata": {},
     "output_type": "execute_result"
    },
    {
     "data": {
      "image/png": "[encoded data removed]",
      "text/plain": [
       "<Figure size 600x600 with 1 Axes>"
      ]
     },
     "metadata": {},
     "output_type": "display_data"
    }
   ],
   "source": [
    "import matplotlib.pyplot as plt\n",
    "import seaborn as sns\n",
    "\n",
    "plt.figure(figsize=(6, 6))\n",
    "label_counts = df['label_name'].value_counts(ascending = True)\n",
    "label_counts.plot.barh()\n",
    "plt.title(\"Frequency of Classes\")"
   ]
  },
  {
   "cell_type": "code",
   "execution_count": 5,
   "id": "dd3acafc",
   "metadata": {},
   "outputs": [
    {
     "data": {
      "image/png": "[encoded data removed]",
      "text/plain": [
       "<Figure size 500x500 with 1 Axes>"
      ]
     },
     "metadata": {},
     "output_type": "display_data"
    }
   ],
   "source": [
    "import matplotlib.pyplot as plt\n",
    "\n",
    "# Get the value counts from your DataFrame\n",
    "label_counts = df['label_name'].value_counts(ascending=True)\n",
    "total_count = df.shape[0]  # Calculate the total number of values\n",
    "\n",
    "# Create a pie chart\n",
    "plt.figure(figsize=(5, 5))\n",
    "label_counts.plot.pie(\n",
    "    autopct='%1.1f%%',  # Show percentages with 1 decimal place\n",
    "    startangle=90,      # Start the pie chart at 90 degrees\n",
    "    colors=plt.cm.tab10.colors,  # Use a color palette\n",
    "#     explode=[0.1] * len(label_counts),  # Slightly \"explode\" each slice\n",
    "    labels=label_counts.index  # Use the class labels as the legend\n",
    ")\n",
    "\n",
    "# Add a title\n",
    "plt.title(\"Class Distribution as Pie Chart\")\n",
    "\n",
    "# Equal aspect ratio to ensure the pie is circular\n",
    "plt.axis('equal') \n",
    "\n",
    "# Add total count annotation below the chart\n",
    "plt.figtext(0.5, 0.01, f'Total Count: {total_count}', ha='center', fontsize=12, color='black')\n",
    "\n",
    "# Display the chart\n",
    "plt.tight_layout()\n",
    "plt.show()"
   ]
  },
  {
   "cell_type": "code",
   "execution_count": 6,
   "id": "145c49c1",
   "metadata": {},
   "outputs": [
    {
     "data": {
      "text/plain": [
       "Text(0.5, 1.0, 'Frequency of Classes')"
      ]
     },
     "execution_count": 6,
     "metadata": {},
     "output_type": "execute_result"
    },
    {
     "data": {
      "image/png": "[encoded data removed]",
      "text/plain": [
       "<Figure size 600x600 with 1 Axes>"
      ]
     },
     "metadata": {},
     "output_type": "display_data"
    }
   ],
   "source": [
    "import matplotlib.pyplot as plt\n",
    "import seaborn as sns\n",
    "\n",
    "plt.figure(figsize=(6, 6))\n",
    "label_counts = balanced_train_df['label_name'].value_counts(ascending = True)\n",
    "label_counts.plot.barh()\n",
    "plt.title(\"Frequency of Classes\")"
   ]
  },
  {
   "cell_type": "code",
   "execution_count": 7,
   "id": "d70ecb8a",
   "metadata": {},
   "outputs": [
    {
     "data": {
      "image/png": "[encoded data removed]",
      "text/plain": [
       "<Figure size 500x500 with 1 Axes>"
      ]
     },
     "metadata": {},
     "output_type": "display_data"
    }
   ],
   "source": [
    "import matplotlib.pyplot as plt\n",
    "\n",
    "# Get the value counts from your DataFrame\n",
    "label_counts = balanced_train_df['label_name'].value_counts(ascending=True)\n",
    "total_count = balanced_train_df.shape[0]  # Calculate the total number of values\n",
    "\n",
    "# Create a pie chart\n",
    "plt.figure(figsize=(5, 5))\n",
    "label_counts.plot.pie(\n",
    "    autopct='%1.1f%%',  # Show percentages with 1 decimal place\n",
    "    startangle=90,      # Start the pie chart at 90 degrees\n",
    "    colors=plt.cm.tab10.colors,  # Use a color palette\n",
    "#     explode=[0.1] * len(label_counts),  # Slightly \"explode\" each slice\n",
    "    labels=label_counts.index  # Use the class labels as the legend\n",
    ")\n",
    "\n",
    "# Add a title\n",
    "plt.title(\"Class Distribution as Pie Chart\")\n",
    "\n",
    "# Equal aspect ratio to ensure the pie is circular\n",
    "plt.axis('equal') \n",
    "\n",
    "# Add total count annotation below the chart\n",
    "plt.figtext(0.5, 0.01, f'Total Count: {total_count}', ha='center', fontsize=12, color='black')\n",
    "\n",
    "# Display the chart\n",
    "plt.tight_layout()\n",
    "plt.show()"
   ]
  },
  {
   "cell_type": "code",
   "execution_count": 39,
   "id": "6a922be2",
   "metadata": {},
   "outputs": [
    {
     "data": {
      "text/plain": [
       "(131829, 275544)"
      ]
     },
     "execution_count": 39,
     "metadata": {},
     "output_type": "execute_result"
    }
   ],
   "source": [
    "df.size, balanced_train_df.size"
   ]
  },
  {
   "cell_type": "code",
   "execution_count": 37,
   "id": "a1fd5934",
   "metadata": {},
   "outputs": [
    {
     "data": {
      "text/html": [
       "<div>\n",
       "<style scoped>\n",
       "    .dataframe tbody tr th:only-of-type {\n",
       "        vertical-align: middle;\n",
       "    }\n",
       "\n",
       "    .dataframe tbody tr th {\n",
       "        vertical-align: top;\n",
       "    }\n",
       "\n",
       "    .dataframe thead th {\n",
       "        text-align: right;\n",
       "    }\n",
       "</style>\n",
       "<table border=\"1\" class=\"dataframe\">\n",
       "  <thead>\n",
       "    <tr style=\"text-align: right;\">\n",
       "      <th></th>\n",
       "      <th>label</th>\n",
       "      <th>text</th>\n",
       "      <th>label_name</th>\n",
       "    </tr>\n",
       "  </thead>\n",
       "  <tbody>\n",
       "    <tr>\n",
       "      <th>7</th>\n",
       "      <td>1</td>\n",
       "      <td>let ask event hosts americas climate change su...</td>\n",
       "      <td>Neutral</td>\n",
       "    </tr>\n",
       "    <tr>\n",
       "      <th>8</th>\n",
       "      <td>1</td>\n",
       "      <td>global warming dope weather</td>\n",
       "      <td>Neutral</td>\n",
       "    </tr>\n",
       "    <tr>\n",
       "      <th>10</th>\n",
       "      <td>1</td>\n",
       "      <td>hahahahhahah hate global warming</td>\n",
       "      <td>Neutral</td>\n",
       "    </tr>\n",
       "    <tr>\n",
       "      <th>18</th>\n",
       "      <td>1</td>\n",
       "      <td>zero books podcast denied climate change</td>\n",
       "      <td>Neutral</td>\n",
       "    </tr>\n",
       "    <tr>\n",
       "      <th>23</th>\n",
       "      <td>1</td>\n",
       "      <td>national geographics climate change doc dicapr...</td>\n",
       "      <td>Neutral</td>\n",
       "    </tr>\n",
       "    <tr>\n",
       "      <th>...</th>\n",
       "      <td>...</td>\n",
       "      <td>...</td>\n",
       "      <td>...</td>\n",
       "    </tr>\n",
       "    <tr>\n",
       "      <th>91819</th>\n",
       "      <td>1</td>\n",
       "      <td>thought global warming supposed kill years max</td>\n",
       "      <td>Neutral</td>\n",
       "    </tr>\n",
       "    <tr>\n",
       "      <th>91827</th>\n",
       "      <td>1</td>\n",
       "      <td>door de global warming de sahara half onderges...</td>\n",
       "      <td>Neutral</td>\n",
       "    </tr>\n",
       "    <tr>\n",
       "      <th>91831</th>\n",
       "      <td>1</td>\n",
       "      <td>robin hood help fight climate change</td>\n",
       "      <td>Neutral</td>\n",
       "    </tr>\n",
       "    <tr>\n",
       "      <th>91833</th>\n",
       "      <td>1</td>\n",
       "      <td>tries lecture america climate change</td>\n",
       "      <td>Neutral</td>\n",
       "    </tr>\n",
       "    <tr>\n",
       "      <th>91846</th>\n",
       "      <td>1</td>\n",
       "      <td>war christmas laughs global warming</td>\n",
       "      <td>Neutral</td>\n",
       "    </tr>\n",
       "  </tbody>\n",
       "</table>\n",
       "<p>22962 rows × 3 columns</p>\n",
       "</div>"
      ],
      "text/plain": [
       "       label                                               text label_name\n",
       "7          1  let ask event hosts americas climate change su...    Neutral\n",
       "8          1                        global warming dope weather    Neutral\n",
       "10         1                   hahahahhahah hate global warming    Neutral\n",
       "18         1           zero books podcast denied climate change    Neutral\n",
       "23         1  national geographics climate change doc dicapr...    Neutral\n",
       "...      ...                                                ...        ...\n",
       "91819      1     thought global warming supposed kill years max    Neutral\n",
       "91827      1  door de global warming de sahara half onderges...    Neutral\n",
       "91831      1               robin hood help fight climate change    Neutral\n",
       "91833      1               tries lecture america climate change    Neutral\n",
       "91846      1                war christmas laughs global warming    Neutral\n",
       "\n",
       "[22962 rows x 3 columns]"
      ]
     },
     "execution_count": 37,
     "metadata": {},
     "output_type": "execute_result"
    }
   ],
   "source": [
    "balanced_train_df[balanced_train_df['label_name'] == 'Neutral']"
   ]
  },
  {
   "cell_type": "markdown",
   "id": "476b0cc0",
   "metadata": {},
   "source": [
    "## Saving the Cleaned Data"
   ]
  },
  {
   "cell_type": "code",
   "execution_count": 40,
   "id": "f361a760",
   "metadata": {},
   "outputs": [],
   "source": [
    "# Save the modified DataFrame to a new CSV file\n",
    "# df.to_csv('cleaned_twitter_sentiment_data.csv', index=False)\n",
    "balanced_train_df.to_csv('cleaned_twitter_sentiment_data.csv', index=False)"
   ]
  }
 ],
 "metadata": {
  "kernelspec": {
   "display_name": "Python 3 (ipykernel)",
   "language": "python",
   "name": "python3"
  },
  "language_info": {
   "codemirror_mode": {
    "name": "ipython",
    "version": 3
   },
   "file_extension": ".py",
   "mimetype": "text/x-python",
   "name": "python",
   "nbconvert_exporter": "python",
   "pygments_lexer": "ipython3",
   "version": "3.11.5"
  }
 },
 "nbformat": 4,
 "nbformat_minor": 5
}
